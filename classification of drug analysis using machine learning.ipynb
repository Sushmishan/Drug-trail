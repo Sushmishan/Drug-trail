{
 "cells": [
  {
   "cell_type": "code",
   "execution_count": null,
   "id": "a82e943d",
   "metadata": {},
   "outputs": [],
   "source": [
    "import pandas as pd\n",
    "import numpy as np\n",
    "\n",
    "from sklearn.svm import SVC #support vector classifier\n",
    "from sklearn.ensemble import RandomForestClassifier\n",
    "from sklearn.neighbors import KNeighborsClassifier\n",
    "from sklearn.linear_model import LogisticRegression\n",
    "from sklearn.model_selection import train_test_split\n",
    "from sklearn.datasets import load_iris\n",
    "from sklearn.preprocessing import StandardScaler\n",
    "from sklearn.metrics import classification_report\n",
    "\n",
    "\n",
    "import matplotlib.pyplot as plt\n",
    "import matplotlib.cm as cm\n",
    "%matplotlib inline\n",
    "\n",
    "\n",
    "from sklearn.metrics import accuracy_score\n"
   ]
  },
  {
   "cell_type": "code",
   "execution_count": null,
   "id": "87a5faca",
   "metadata": {},
   "outputs": [],
   "source": [
    "training_data =pd.read_csv('drugtrial.csv')\n",
    "training_data.head()"
   ]
  },
  {
   "cell_type": "code",
   "execution_count": null,
   "id": "ade59607",
   "metadata": {},
   "outputs": [],
   "source": [
    "training_data['urlDrugName'].value_counts().head(15).plot(kind='bar')\n",
    "plt.rcParams['figure.figsize']=(10,7)\n",
    "plt.show()"
   ]
  },
  {
   "cell_type": "code",
   "execution_count": null,
   "id": "11ef8371",
   "metadata": {},
   "outputs": [],
   "source": [
    "training_data['rating'].value_counts().head(15).plot(kind='bar')\n",
    "plt.xlabel('ratings')\n",
    "plt.show()"
   ]
  },
  {
   "cell_type": "code",
   "execution_count": null,
   "id": "21733a8d",
   "metadata": {},
   "outputs": [],
   "source": [
    "training_data['effectiveness'].value_counts().plot(kind='pie')\n",
    "plt.show()"
   ]
  },
  {
   "cell_type": "code",
   "execution_count": null,
   "id": "40feadb2",
   "metadata": {},
   "outputs": [],
   "source": [
    "training_data['condition'].value_counts().head(15).plot(kind='bar')\n",
    "plt.xlabel('condition')\n",
    "plt.show()"
   ]
  },
  {
   "cell_type": "code",
   "execution_count": null,
   "id": "6410147a",
   "metadata": {},
   "outputs": [],
   "source": [
    "target=training_data.pop('sideEffects')\n",
    "training_data.head()"
   ]
  },
  {
   "cell_type": "code",
   "execution_count": null,
   "id": "3b5e09f8",
   "metadata": {},
   "outputs": [],
   "source": [
    "cols=['urlDrugName','effectiveness','condition']\n",
    "for x in cols:\n",
    "    training_data[x]=pd.factorize(training_data[x])[0]\n",
    "    \n",
    "target=pd.factorize(target)[0]\n",
    "training_data.head()"
   ]
  },
  {
   "cell_type": "code",
   "execution_count": null,
   "id": "b76d9816",
   "metadata": {},
   "outputs": [],
   "source": [
    "scaler=StandardScaler()\n",
    "training_data=scaler.fit_transform(training_data)\n",
    "training_data"
   ]
  },
  {
   "cell_type": "code",
   "execution_count": null,
   "id": "a858f49e",
   "metadata": {},
   "outputs": [],
   "source": [
    "x_train,x_test,y_train,y_test = train_test_split(training_data,target, test_size=0.2, random_state=0)"
   ]
  },
  {
   "cell_type": "code",
   "execution_count": null,
   "id": "081f21fa",
   "metadata": {},
   "outputs": [],
   "source": [
    "svm_clf=SVC().fit(x_train,y_train)\n",
    "\n",
    "svm_pred=svm_clf.predict(x_test)\n",
    "\n",
    "print(classification_report(y_test,svm_pred))\n"
   ]
  },
  {
   "cell_type": "code",
   "execution_count": null,
   "id": "a65c6b6a",
   "metadata": {},
   "outputs": [],
   "source": [
    "KNeighborsClassifier_clf=KNeighborsClassifier().fit(x_train,y_train)\n",
    "\n",
    "KNeighborsClassifier_pred=KNeighborsClassifier_clf.predict(x_test)\n",
    "\n",
    "print(classification_report(y_test,KNeighborsClassifier_pred))"
   ]
  },
  {
   "cell_type": "code",
   "execution_count": null,
   "id": "c102a15c",
   "metadata": {},
   "outputs": [],
   "source": [
    "LogisticRegression_clf=LogisticRegression().fit(x_train,y_train)\n",
    "LogisticRegression_pred=LogisticRegression_clf.predict(x_test)\n",
    "\n",
    "print(classification_report(y_test,LogisticRegression_pred))\n"
   ]
  },
  {
   "cell_type": "code",
   "execution_count": null,
   "id": "a4e487fc",
   "metadata": {},
   "outputs": [],
   "source": [
    "rf_clf=RandomForestClassifier().fit(x_train,y_train)\n",
    "\n",
    "rf_pred=rf_clf.predict(x_test)\n",
    "\n",
    "print(classification_report(y_test,rf_pred))"
   ]
  },
  {
   "cell_type": "code",
   "execution_count": null,
   "id": "d1312f7b",
   "metadata": {},
   "outputs": [],
   "source": [
    "from sklearn import tree\n",
    "clf = tree.DecisionTreeClassifier()\n",
    "clf = clf.fit(x_train,y_train)\n",
    "prediction=clf.predict(x_test)"
   ]
  },
  {
   "cell_type": "code",
   "execution_count": null,
   "id": "769d8dc5",
   "metadata": {},
   "outputs": [],
   "source": [
    "iris = load_iris()\n",
    "df,target = iris.data, iris.target\n",
    "clf = tree.DecisionTreeClassifier()\n",
    "clf = clf.fit(df, target)\n",
    "tree.plot_tree(clf) "
   ]
  },
  {
   "cell_type": "code",
   "execution_count": null,
   "id": "c3e7efcd",
   "metadata": {},
   "outputs": [],
   "source": [
    "accuracy_scores = np.zeros(5)\n",
    "\n",
    "# Support Vector Classifier\n",
    "clf = SVC().fit(x_train, y_train)\n",
    "prediction = clf.predict(x_test)\n",
    "accuracy_scores[0] = accuracy_score(y_test, prediction)*100\n",
    "print('Support Vector Classifier accuracy: {}%'.format(accuracy_scores[0]))\n",
    "\n",
    "# Logistic Regression\n",
    "clf = LogisticRegression().fit(x_train, y_train)\n",
    "prediction = clf.predict(x_test)\n",
    "accuracy_scores[1] = accuracy_score(y_test, prediction)*100\n",
    "print('Logistic Regression accuracy: {}%'.format(accuracy_scores[1]))\n",
    "\n",
    "# K Nearest Neighbors\n",
    "clf = KNeighborsClassifier().fit(x_train, y_train)\n",
    "prediction = clf.predict(x_test)\n",
    "accuracy_scores[2] = accuracy_score(y_test, prediction)*100\n",
    "print('K Nearest Neighbors Classifier accuracy: {}%'.format(accuracy_scores[2]))\n",
    "\n",
    "# Random Forest\n",
    "clf = RandomForestClassifier().fit(x_train, y_train)\n",
    "prediction = clf.predict(x_test)\n",
    "accuracy_scores[3] = accuracy_score(y_test, prediction)*100\n",
    "print('Random Forest Classifier accuracy: {}%'.format(accuracy_scores[3]))\n",
    "\n",
    "#Decision Tree Classifier\n",
    "clf = tree.DecisionTreeClassifier().fit(x_train, y_train)\n",
    "prediction = clf.predict(x_test)\n",
    "accuracy_scores[4] = accuracy_score(y_test, prediction)*100\n",
    "print('Random Forest Classifier accuracy: {}%'.format(accuracy_scores[4]))\n",
    "\n",
    "\n",
    "plt.figure(figsize=(12,8))\n",
    "colors = cm.rainbow(np.linspace(0, 1, 4))\n",
    "labels = ['Support Vector Classifier', 'Logsitic Regression', 'K Nearest Neighbors', 'Random Forest','Decision tree Classifier']\n",
    "plt.bar(labels,\n",
    "        accuracy_scores,\n",
    "        color = colors)\n",
    "plt.xlabel('Classifiers',fontsize=18)\n",
    "plt.ylabel('Accuracy',fontsize=18)\n",
    "plt.title('Accuracy of various algorithms',fontsize=20)\n",
    "plt.xticks(rotation=45,fontsize=12)\n",
    "plt.yticks(fontsize=12)"
   ]
  },
  {
   "cell_type": "code",
   "execution_count": null,
   "id": "f9a4d79d",
   "metadata": {},
   "outputs": [],
   "source": []
  }
 ],
 "metadata": {
  "kernelspec": {
   "display_name": "Python 3 (ipykernel)",
   "language": "python",
   "name": "python3"
  },
  "language_info": {
   "codemirror_mode": {
    "name": "ipython",
    "version": 3
   },
   "file_extension": ".py",
   "mimetype": "text/x-python",
   "name": "python",
   "nbconvert_exporter": "python",
   "pygments_lexer": "ipython3",
   "version": "3.9.12"
  }
 },
 "nbformat": 4,
 "nbformat_minor": 5
}
